{
 "cells": [
  {
   "cell_type": "code",
   "execution_count": 2,
   "id": "eaaccb4d",
   "metadata": {},
   "outputs": [],
   "source": [
    "import os\n",
    "import openai\n"
   ]
  },
  {
   "cell_type": "code",
   "execution_count": 3,
   "id": "c615397d",
   "metadata": {},
   "outputs": [],
   "source": [
    "openai.api_key = os.getenv(\"OPENAI_API_KEY\")\n"
   ]
  },
  {
   "cell_type": "code",
   "execution_count": 4,
   "id": "694bb77f",
   "metadata": {
    "scrolled": true
   },
   "outputs": [],
   "source": [
    "def test_prompt_openai(prompt, suppress=False, model='text-davinci-003', **kwargs):\n",
    "    response = openai.Completion.create(\n",
    "      model=model,\n",
    "      prompt=prompt,\n",
    "      max_tokens=256,\n",
    "      **kwargs\n",
    "    )\n",
    "    answer = response.choices[0].text\n",
    "    if not suppress:\n",
    "        print(f'PROMPT:\\n------\\n{prompt}\\n------\\nRESPONSE\\n------\\n{answer}')\n",
    "    else:\n",
    "        return answer\n"
   ]
  },
  {
   "cell_type": "code",
   "execution_count": 24,
   "id": "3ed0eca2",
   "metadata": {},
   "outputs": [],
   "source": []
  },
  {
   "cell_type": "code",
   "execution_count": 13,
   "id": "0fa1aadb",
   "metadata": {},
   "outputs": [],
   "source": [
    "NAMESPACE = 'default'  # pinecone namespace"
   ]
  },
  {
   "cell_type": "code",
   "execution_count": 14,
   "id": "c459d3db",
   "metadata": {},
   "outputs": [],
   "source": [
    "import requests\n",
    "import json\n",
    "\n",
    "def get_best_result_from_pinecone(query, namespace=NAMESPACE):\n",
    "    payload = json.dumps({\n",
    "      \"num_results\": 2,\n",
    "      \"query\": query,\n",
    "      \"re_ranking_strategy\": \"none\",\n",
    "      \"namespace\": namespace\n",
    "    })\n",
    "\n",
    "    response = requests.post(\n",
    "        \"https://information-retrieval-hiaa.onrender.com/document/retrieve\", \n",
    "        data=payload\n",
    "    )\n",
    "\n",
    "    return response.json()['documents'][0]\n"
   ]
  },
  {
   "cell_type": "code",
   "execution_count": 15,
   "id": "735ea5b2",
   "metadata": {
    "scrolled": true
   },
   "outputs": [
    {
     "name": "stdout",
     "output_type": "stream",
     "text": [
      "PROMPT:\n",
      "------\n",
      "Answer the question using the context.\n",
      "\n",
      "Context: In economics, fixed costs, indirect costs or overheads are business expenses that are not dependent on the level of goods or services produced by the business. They tend to be time-related, such as salaries or rents being paid per month, and are often referred to as overhead costs. This is in contrast to variable costs, which are volume-related (and are paid per quantity produced). For a simple example, such as a bakery, the monthly rent for the baking facilities, and the monthly payments for the security system and basic phone line are fixed costs, as they do not change according to how much bread the bakery produces and sells. On the other hands, the wage costs of the bakery are variable, as the bakery will have to hire more workers if the production of bread increases. The relation between fixed cost and variable cost can be modelled by an analytical formula.\n",
      "Query: What are fixed costs?\n",
      "Answer:\n",
      "------\n",
      "RESPONSE\n",
      "------\n",
      " Fixed costs, indirect costs or overheads are business expenses that are not dependent on the level of goods or services produced by the business. They tend to be time-related, such as salaries or rents being paid per month, and are often referred to as overhead costs.\n"
     ]
    }
   ],
   "source": [
    "query = \"What are fixed costs?\"\n",
    "\n",
    "best_result = get_best_result_from_pinecone(query)\n",
    "    \n",
    "PROMPT = f\"\"\"\n",
    "Answer the question using the context.\n",
    "\n",
    "Context: {best_result['text']}\n",
    "Query: {query}\n",
    "Answer:\"\"\".strip()\n",
    "\n",
    "test_prompt_openai(PROMPT)"
   ]
  },
  {
   "cell_type": "code",
   "execution_count": 16,
   "id": "6dc3dbe7",
   "metadata": {},
   "outputs": [
    {
     "name": "stdout",
     "output_type": "stream",
     "text": [
      "PROMPT:\n",
      "------\n",
      "Answer the question using the context.\n",
      "\n",
      "Context: In November 2008, the show's post-election day telecast garnered the biggest audience in the show's history at 6.2 million in total viewers, becoming the week's most-watched program in daytime television. It was surpassed on July 29, 2010, during which former President Barack Obama first appeared as a guest on The View, which garnered a total of 6.6 million viewers. In 2013, the show was reported to be averaging 3.1 million daily viewers, which outpaced rival talk show The Talk.\n",
      "Query: How old is Obama?\n",
      "Answer:\n",
      "------\n",
      "RESPONSE\n",
      "------\n",
      " Obama is 58 years old (as of October 2020).\n"
     ]
    }
   ],
   "source": [
    "query = \"How old is Obama?\"\n",
    "\n",
    "best_result = get_best_result_from_pinecone(query)\n",
    "    \n",
    "PROMPT = f\"\"\"\n",
    "Answer the question using the context.\n",
    "\n",
    "Context: {best_result['text']}\n",
    "Query: {query}\n",
    "Answer:\"\"\".strip()\n",
    "\n",
    "test_prompt_openai(PROMPT)"
   ]
  },
  {
   "cell_type": "code",
   "execution_count": 37,
   "id": "0e4e99f0",
   "metadata": {},
   "outputs": [
    {
     "name": "stdout",
     "output_type": "stream",
     "text": [
      "PROMPT:\n",
      "------\n",
      "Only using the following context, answer the question. If you cannot answer using the context, say 'I don't know. Use this format:\n",
      "\n",
      "Context: (context)\n",
      "Query: (natural language query)\n",
      "Answer: (answer)\n",
      "\n",
      "Context: In November 2008, the show's post-election day telecast garnered the biggest audience in the show's history at 6.2 million in total viewers, becoming the week's most-watched program in daytime television. It was surpassed on July 29, 2010, during which former President Barack Obama first appeared as a guest on The View, which garnered a total of 6.6 million viewers. In 2013, the show was reported to be averaging 3.1 million daily viewers, which outpaced rival talk show The Talk.\n",
      "Query: How old is Obama?\n",
      "Answer:\n",
      "------\n",
      "RESPONSE\n",
      "------\n",
      " I don't know.\n"
     ]
    }
   ],
   "source": [
    "# Asking it to not answer if the context isn't enough.\n",
    "query = \"How old is Obama?\"\n",
    "\n",
    "best_result = get_best_result_from_pinecone(query)\n",
    "\n",
    "PROMPT = f\"\"\"\n",
    "Only using the following context, answer the question. If you cannot answer using the context, say 'I don't know. Use this format:\n",
    "\n",
    "Context: (context)\n",
    "Query: (natural language query)\n",
    "Answer: (answer)\n",
    "\n",
    "Context: {best_result['text']}\n",
    "Query: {query}\n",
    "Answer:\"\"\".strip()\n",
    "\n",
    "test_prompt_openai(PROMPT)\n"
   ]
  },
  {
   "cell_type": "code",
   "execution_count": null,
   "id": "e3bceb09",
   "metadata": {},
   "outputs": [],
   "source": []
  },
  {
   "cell_type": "code",
   "execution_count": 47,
   "id": "6cefb833",
   "metadata": {},
   "outputs": [],
   "source": [
    "# use some chain of thought prompting to make it think through the reasoning.\n",
    "def gen_Q_A(query, qa_engine='openai'):\n",
    "    best_result = get_best_result_from_pinecone(query)\n",
    "    \n",
    "    PROMPT = f\"\"\"\n",
    "Only using the following context, answer the question.\n",
    "\n",
    "Context: (context)\n",
    "Query: (natural language query)\n",
    "Answer: (answer)\n",
    "Reasoning: (the reasoning as to how the query is answerable or not using the context)\n",
    "\n",
    "Context: {best_result['text']}\n",
    "Query: {query}\n",
    "Answer:\"\"\".strip()\n",
    "    \n",
    "    if qa_engine == 'openai':\n",
    "        return test_prompt_openai(PROMPT)\n",
    "    elif qa_engine == 'cohere':\n",
    "        return test_prompt_cohere(PROMPT)\n",
    "        "
   ]
  },
  {
   "cell_type": "code",
   "execution_count": 50,
   "id": "bf0f64db",
   "metadata": {},
   "outputs": [
    {
     "name": "stdout",
     "output_type": "stream",
     "text": [
      "PROMPT:\n",
      "------\n",
      "Only using the following context, answer the question.\n",
      "\n",
      "Context: (context)\n",
      "Query: (natural language query)\n",
      "Answer: (answer)\n",
      "Reasoning: (the reasoning as to how the query is answerable or not using the context)\n",
      "\n",
      "Context: In November 2008, the show's post-election day telecast garnered the biggest audience in the show's history at 6.2 million in total viewers, becoming the week's most-watched program in daytime television. It was surpassed on July 29, 2010, during which former President Barack Obama first appeared as a guest on The View, which garnered a total of 6.6 million viewers. In 2013, the show was reported to be averaging 3.1 million daily viewers, which outpaced rival talk show The Talk.\n",
      "Query: How old is Obama?\n",
      "Answer:\n",
      "------\n",
      "RESPONSE\n",
      "------\n",
      " Unanswerable\n",
      "Reasoning: The context provided does not contain information regarding Obama's age.\n"
     ]
    }
   ],
   "source": [
    "gen_Q_A('How old is Obama?', qa_engine='openai')"
   ]
  },
  {
   "cell_type": "code",
   "execution_count": null,
   "id": "e6213eec",
   "metadata": {},
   "outputs": [],
   "source": []
  },
  {
   "cell_type": "code",
   "execution_count": null,
   "id": "89df2d92",
   "metadata": {},
   "outputs": [],
   "source": []
  },
  {
   "cell_type": "code",
   "execution_count": 41,
   "id": "61cd0154",
   "metadata": {
    "scrolled": true
   },
   "outputs": [
    {
     "name": "stdout",
     "output_type": "stream",
     "text": [
      "PROMPT:\n",
      "------\n",
      "Only using the following context, answer the question. If you cannot answer using the context, say 'I don't know. Use this format\n",
      "\n",
      "Context: (context)\n",
      "Query: (natural language query)\n",
      "Reasoning: (the reasoning as to how the query is answerable or not using the context)\n",
      "Answer: (answer)\n",
      "\n",
      "Context: Ordinarily, a baseball game consists of nine innings (in softball and high school baseball games there are typically seven innings; in Little League Baseball, six), each of which is divided into halves: the visiting team bats first, after which the home team takes its turn at bat. However, if the score remains tied at the end of the regulation number of complete innings, the rules provide that ``play shall continue until (1) the visiting team has scored more total runs than the home team at the end of a completed inning; or (2) the home team scores the winning run in an uncompleted inning.'' (Since the home team bats second, condition (2) implies that the visiting team will not have the opportunity to score more runs before the end of the inning.)\n",
      "Query: how many innings in a baseball game?\n",
      "Reasoning:\n",
      "------\n",
      "RESPONSE\n",
      "------\n",
      " The query can be answered using the provided context.\n",
      "Answer: Nine innings.\n"
     ]
    }
   ],
   "source": [
    "gen_Q_A('how many innings in a baseball game?', qa_engine='openai')"
   ]
  },
  {
   "cell_type": "code",
   "execution_count": 42,
   "id": "df2769d2",
   "metadata": {},
   "outputs": [
    {
     "name": "stdout",
     "output_type": "stream",
     "text": [
      "PROMPT:\n",
      "------\n",
      "Only using the following context, answer the question. If you cannot answer using the context, say 'I don't know. Use this format\n",
      "\n",
      "Context: (context)\n",
      "Query: (natural language query)\n",
      "Reasoning: (the reasoning as to how the query is answerable or not using the context)\n",
      "Answer: (answer)\n",
      "\n",
      "Context: In November 2008, the show's post-election day telecast garnered the biggest audience in the show's history at 6.2 million in total viewers, becoming the week's most-watched program in daytime television. It was surpassed on July 29, 2010, during which former President Barack Obama first appeared as a guest on The View, which garnered a total of 6.6 million viewers. In 2013, the show was reported to be averaging 3.1 million daily viewers, which outpaced rival talk show The Talk.\n",
      "Query: How old is Obama?\n",
      "Reasoning:\n",
      "------\n",
      "RESPONSE\n",
      "------\n",
      " The context does not contain sufficient information to answer this query.\n",
      "Answer: I don't know.\n"
     ]
    }
   ],
   "source": [
    "gen_Q_A('How old is Obama?', qa_engine='openai')"
   ]
  },
  {
   "cell_type": "code",
   "execution_count": null,
   "id": "5851ec7e",
   "metadata": {},
   "outputs": [],
   "source": []
  },
  {
   "cell_type": "code",
   "execution_count": null,
   "id": "2212767f",
   "metadata": {},
   "outputs": [],
   "source": [
    "from transformers import pipeline\n",
    "classifier = pipeline(\"zero-shot-classification\", model=\"facebook/bart-large-mnli\")\n",
    "\n",
    "sequence_to_classify = \"All of this is your fault for being Jewish. You shouldn't be allowed to have an account on this website in the first place. If you want help, you'll need to take care of this problem yourself.\"\n",
    "\n",
    "candidate_labels = ['racist', 'anti-semitic', 'sexist']\n",
    "\n",
    "classifier(sequence_to_classify, candidate_labels, multi_label=True)  # Assuming there can be multiple answers\n",
    "\n",
    "\n",
    "# then the \"rude\" AI wasn't that bad\n",
    "classifier(\n",
    "    'Do you have your login information? Because if not, then there is nothing I can do for you.', \n",
    "    candidate_labels, multi_label=True)\n",
    "\n"
   ]
  },
  {
   "cell_type": "markdown",
   "id": "b67672dd",
   "metadata": {},
   "source": [
    "# Retrieval Augmented Generation with GPT-4"
   ]
  },
  {
   "cell_type": "code",
   "execution_count": null,
   "id": "c3acc1c2",
   "metadata": {},
   "outputs": [],
   "source": [
    "# TODO add output bias"
   ]
  },
  {
   "cell_type": "code",
   "execution_count": 31,
   "id": "26b7a384",
   "metadata": {},
   "outputs": [],
   "source": [
    "SYSTEM_PROMPT = '''\n",
    "You are a helpful Q/A bot that can only use reference material from a knowledge base.\n",
    "If a user asks anything that is not \"from the knowledge base\", say that you cannot answer.\n",
    "'''.strip()\n",
    "\n",
    "class ChatbotGPT():\n",
    "    def __init__(self, system_prompt, threshold=.8):\n",
    "        self.conversation = [{'role': 'system', 'content': system_prompt}]\n",
    "        self.threshold = threshold\n",
    "\n",
    "    def display_conversation(self):\n",
    "        '''display the conversation in a pretty format denoting the system, user and assistant differently'''\n",
    "        for turn in self.conversation:\n",
    "            role = turn['role']\n",
    "            content = turn['content']\n",
    "            if role == 'system':\n",
    "                print(f'System: {content}')\n",
    "            elif role == 'user':\n",
    "                print(f'User: {content}')\n",
    "            elif role == 'assistant':\n",
    "                print(f'Assistant: {content}')\n",
    "            print('------------')\n",
    "\n",
    "    def user_turn(self, message):\n",
    "        self.conversation.append({\"role\": \"user\", \"content\": message})\n",
    "        best_result = get_best_result_from_pinecone(message)\n",
    "        print(best_result)\n",
    "        if best_result['score'] >= self.threshold:\n",
    "            # Add to the context to the system prompt\n",
    "            self.conversation[0]['content']+=f'\\n\\nFrom the knowledge base: \"{best_result[\"text\"]}\"'\n",
    "\n",
    "        chatgpt_response = openai.ChatCompletion.create(\n",
    "            model='gpt-4',\n",
    "            temperature=0,\n",
    "            messages=self.conversation\n",
    "        ).choices[0].message.content.strip()\n",
    "        self.conversation.append({'role': 'assistant', 'content': chatgpt_response})\n",
    "        return self.conversation[-1]\n"
   ]
  },
  {
   "cell_type": "code",
   "execution_count": 32,
   "id": "300f88bb",
   "metadata": {
    "scrolled": true
   },
   "outputs": [
    {
     "name": "stdout",
     "output_type": "stream",
     "text": [
      "{'text': 'In economics, fixed costs, indirect costs or overheads are business expenses that are not dependent on the level of goods or services produced by the business. They tend to be time-related, such as salaries or rents being paid per month, and are often referred to as overhead costs. This is in contrast to variable costs, which are volume-related (and are paid per quantity produced). For a simple example, such as a bakery, the monthly rent for the baking facilities, and the monthly payments for the security system and basic phone line are fixed costs, as they do not change according to how much bread the bakery produces and sells. On the other hands, the wage costs of the bakery are variable, as the bakery will have to hire more workers if the production of bread increases. The relation between fixed cost and variable cost can be modelled by an analytical formula.', 'date_uploaded': '2023-07-31T13:18:21.538702', 'score': 0.891583443, 'id': '57a0103e5716168be7498b4531b21d07'}\n"
     ]
    },
    {
     "data": {
      "text/plain": [
       "{'role': 'assistant',\n",
       " 'content': 'Fixed costs, in economics, are business expenses that are not dependent on the level of goods or services produced by the business. They tend to be time-related, such as salaries or rents being paid per month, and are often referred to as overhead costs. For example, in a bakery, the monthly rent for the baking facilities, and the monthly payments for the security system and basic phone line are fixed costs, as they do not change according to how much bread the bakery produces and sells.'}"
      ]
     },
     "execution_count": 32,
     "metadata": {},
     "output_type": "execute_result"
    }
   ],
   "source": [
    "c = ChatbotGPT(system_prompt=SYSTEM_PROMPT)\n",
    "\n",
    "c.user_turn('what are fixed costs?')"
   ]
  },
  {
   "cell_type": "code",
   "execution_count": 33,
   "id": "8ee85b85",
   "metadata": {},
   "outputs": [
    {
     "name": "stdout",
     "output_type": "stream",
     "text": [
      "{'text': \"In November 2008, the show's post-election day telecast garnered the biggest audience in the show's history at 6.2 million in total viewers, becoming the week's most-watched program in daytime television. It was surpassed on July 29, 2010, during which former President Barack Obama first appeared as a guest on The View, which garnered a total of 6.6 million viewers. In 2013, the show was reported to be averaging 3.1 million daily viewers, which outpaced rival talk show The Talk.\", 'date_uploaded': '2023-07-31T13:17:59.802219', 'score': 0.785162151, 'id': 'be0b9cb01bae3d7fa13839b85c10079c'}\n"
     ]
    },
    {
     "data": {
      "text/plain": [
       "{'role': 'assistant',\n",
       " 'content': \"I'm sorry, but I can't provide the answer to that question because it's not in my knowledge base.\"}"
      ]
     },
     "execution_count": 33,
     "metadata": {},
     "output_type": "execute_result"
    }
   ],
   "source": [
    "c.user_turn('How old is Obama?')"
   ]
  },
  {
   "cell_type": "code",
   "execution_count": 34,
   "id": "69a97b6e",
   "metadata": {},
   "outputs": [
    {
     "name": "stdout",
     "output_type": "stream",
     "text": [
      "{'text': \"Ordinarily, a baseball game consists of nine innings (in softball and high school baseball games there are typically seven innings; in Little League Baseball, six), each of which is divided into halves: the visiting team bats first, after which the home team takes its turn at bat. However, if the score remains tied at the end of the regulation number of complete innings, the rules provide that ``play shall continue until (1) the visiting team has scored more total runs than the home team at the end of a completed inning; or (2) the home team scores the winning run in an uncompleted inning.'' (Since the home team bats second, condition (2) implies that the visiting team will not have the opportunity to score more runs before the end of the inning.)\", 'date_uploaded': '2023-07-31T13:18:08.453184', 'score': 0.91251117, 'id': 'b2f88d00f95a155e6092e181a763ad03'}\n"
     ]
    },
    {
     "data": {
      "text/plain": [
       "{'role': 'assistant',\n",
       " 'content': 'Ordinarily, a baseball game consists of nine innings. Each of these innings is divided into halves: the visiting team bats first, after which the home team takes its turn at bat. However, if the score remains tied at the end of the regulation number of complete innings, the game can continue until either the visiting team has scored more total runs than the home team at the end of a completed inning, or the home team scores the winning run in an uncompleted inning.'}"
      ]
     },
     "execution_count": 34,
     "metadata": {},
     "output_type": "execute_result"
    }
   ],
   "source": [
    "c.user_turn('how many innings are in a game of baseball?')"
   ]
  },
  {
   "cell_type": "code",
   "execution_count": 35,
   "id": "6cf7d7af",
   "metadata": {},
   "outputs": [
    {
     "name": "stdout",
     "output_type": "stream",
     "text": [
      "{'text': \"Susie moves on into another, larger part of heaven, occasionally watching earthbound events. Lindsey and Samuel have a daughter together named Abigail Suzanne. While stalking a young woman in New Hampshire, Harvey is hit on the shoulder by an icicle and falls to his death down a snow-covered slope into the ravine below. At the end of the novel, a Norristown couple finds Susie's charm bracelet but don't realize its significance, and Susie closes the story by wishing the reader ``a long and happy life''.\", 'date_uploaded': '2023-07-31T13:18:14.183838', 'score': 0.736579299, 'id': '8ae1783aed03559f78a886c77e8001ff'}\n"
     ]
    },
    {
     "data": {
      "text/plain": [
       "{'role': 'assistant',\n",
       " 'content': \"You're welcome! If you have any other questions, feel free to ask.\"}"
      ]
     },
     "execution_count": 35,
     "metadata": {},
     "output_type": "execute_result"
    }
   ],
   "source": [
    "c.user_turn('thanks so much!')"
   ]
  },
  {
   "cell_type": "code",
   "execution_count": 36,
   "id": "90fcbb4c",
   "metadata": {},
   "outputs": [
    {
     "name": "stdout",
     "output_type": "stream",
     "text": [
      "System: You are a helpful Q/A bot that can only reference material from a knowledge base.\n",
      "If a user asks anything that is not \"from the knowledge base\", say that you cannot answer.\n",
      "\n",
      "From the knowledge base: \"In economics, fixed costs, indirect costs or overheads are business expenses that are not dependent on the level of goods or services produced by the business. They tend to be time-related, such as salaries or rents being paid per month, and are often referred to as overhead costs. This is in contrast to variable costs, which are volume-related (and are paid per quantity produced). For a simple example, such as a bakery, the monthly rent for the baking facilities, and the monthly payments for the security system and basic phone line are fixed costs, as they do not change according to how much bread the bakery produces and sells. On the other hands, the wage costs of the bakery are variable, as the bakery will have to hire more workers if the production of bread increases. The relation between fixed cost and variable cost can be modelled by an analytical formula.\"\n",
      "\n",
      "From the knowledge base: \"Ordinarily, a baseball game consists of nine innings (in softball and high school baseball games there are typically seven innings; in Little League Baseball, six), each of which is divided into halves: the visiting team bats first, after which the home team takes its turn at bat. However, if the score remains tied at the end of the regulation number of complete innings, the rules provide that ``play shall continue until (1) the visiting team has scored more total runs than the home team at the end of a completed inning; or (2) the home team scores the winning run in an uncompleted inning.'' (Since the home team bats second, condition (2) implies that the visiting team will not have the opportunity to score more runs before the end of the inning.)\"\n",
      "------------\n",
      "User: what are fixed costs?\n",
      "------------\n",
      "Assistant: Fixed costs, in economics, are business expenses that are not dependent on the level of goods or services produced by the business. They tend to be time-related, such as salaries or rents being paid per month, and are often referred to as overhead costs. For example, in a bakery, the monthly rent for the baking facilities, and the monthly payments for the security system and basic phone line are fixed costs, as they do not change according to how much bread the bakery produces and sells.\n",
      "------------\n",
      "User: How old is Obama?\n",
      "------------\n",
      "Assistant: I'm sorry, but I can't provide the answer to that question because it's not in my knowledge base.\n",
      "------------\n",
      "User: how many innings are in a game of baseball?\n",
      "------------\n",
      "Assistant: Ordinarily, a baseball game consists of nine innings. Each of these innings is divided into halves: the visiting team bats first, after which the home team takes its turn at bat. However, if the score remains tied at the end of the regulation number of complete innings, the game can continue until either the visiting team has scored more total runs than the home team at the end of a completed inning, or the home team scores the winning run in an uncompleted inning.\n",
      "------------\n",
      "User: thanks so much!\n",
      "------------\n",
      "Assistant: You're welcome! If you have any other questions, feel free to ask.\n",
      "------------\n"
     ]
    }
   ],
   "source": [
    "c.display_conversation()"
   ]
  },
  {
   "cell_type": "code",
   "execution_count": null,
   "id": "c90f9c7f",
   "metadata": {},
   "outputs": [],
   "source": []
  },
  {
   "cell_type": "code",
   "execution_count": null,
   "id": "568cb215",
   "metadata": {},
   "outputs": [],
   "source": []
  }
 ],
 "metadata": {
  "kernelspec": {
   "display_name": "Python 3 (ipykernel)",
   "language": "python",
   "name": "python3"
  },
  "language_info": {
   "codemirror_mode": {
    "name": "ipython",
    "version": 3
   },
   "file_extension": ".py",
   "mimetype": "text/x-python",
   "name": "python",
   "nbconvert_exporter": "python",
   "pygments_lexer": "ipython3",
   "version": "3.10.13"
  }
 },
 "nbformat": 4,
 "nbformat_minor": 5
}
